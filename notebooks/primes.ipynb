{
 "cells": [
  {
   "cell_type": "code",
   "execution_count": null,
   "id": "c1da85d9",
   "metadata": {},
   "outputs": [
    {
     "name": "stdout",
     "output_type": "stream",
     "text": [
      "Collecting primefac\n",
      "  Downloading primefac-2.0.12-py3-none-any.whl.metadata (13 kB)\n",
      "Downloading primefac-2.0.12-py3-none-any.whl (54 kB)\n",
      "Installing collected packages: primefac\n",
      "Successfully installed primefac-2.0.12\n"
     ]
    },
    {
     "name": "stderr",
     "output_type": "stream",
     "text": [
      "\n",
      "[notice] A new release of pip is available: 24.3.1 -> 25.2\n",
      "[notice] To update, run: C:\\Users\\casey\\AppData\\Local\\Microsoft\\WindowsApps\\PythonSoftwareFoundation.Python.3.11_qbz5n2kfra8p0\\python.exe -m pip install --upgrade pip\n"
     ]
    }
   ],
   "source": [
    "#!pip install primefac"
   ]
  },
  {
   "cell_type": "code",
   "execution_count": 2,
   "id": "9b02a179",
   "metadata": {},
   "outputs": [],
   "source": [
    "import primefac"
   ]
  },
  {
   "cell_type": "code",
   "execution_count": 10,
   "id": "bd2b1d39",
   "metadata": {},
   "outputs": [],
   "source": [
    "foo = [x for x in primefac.primefac(68)]"
   ]
  },
  {
   "cell_type": "code",
   "execution_count": 11,
   "id": "31e59d7e",
   "metadata": {},
   "outputs": [
    {
     "data": {
      "text/plain": [
       "17"
      ]
     },
     "execution_count": 11,
     "metadata": {},
     "output_type": "execute_result"
    }
   ],
   "source": [
    "max(foo)"
   ]
  },
  {
   "cell_type": "code",
   "execution_count": 7,
   "id": "af2ac874",
   "metadata": {},
   "outputs": [
    {
     "data": {
      "text/plain": [
       "False"
      ]
     },
     "execution_count": 7,
     "metadata": {},
     "output_type": "execute_result"
    }
   ],
   "source": [
    "primefac.isprime(68)"
   ]
  },
  {
   "cell_type": "code",
   "execution_count": 8,
   "id": "1d55d9dd",
   "metadata": {},
   "outputs": [
    {
     "data": {
      "text/plain": [
       "True"
      ]
     },
     "execution_count": 8,
     "metadata": {},
     "output_type": "execute_result"
    }
   ],
   "source": [
    "primefac.isprime(47)"
   ]
  },
  {
   "cell_type": "markdown",
   "id": "0da99be1",
   "metadata": {},
   "source": [
    "ok, this is a goofy idea I have to illustrate the Erdos arcsine law"
   ]
  },
  {
   "cell_type": "code",
   "execution_count": 13,
   "id": "30b43c78",
   "metadata": {},
   "outputs": [],
   "source": [
    "import numpy as np\n",
    "import pandas as pd"
   ]
  },
  {
   "cell_type": "code",
   "execution_count": 37,
   "id": "d5b646e3",
   "metadata": {},
   "outputs": [
    {
     "ename": "KeyboardInterrupt",
     "evalue": "",
     "output_type": "error",
     "traceback": [
      "\u001b[1;31m---------------------------------------------------------------------------\u001b[0m",
      "\u001b[1;31mKeyboardInterrupt\u001b[0m                         Traceback (most recent call last)",
      "Cell \u001b[1;32mIn[37], line 5\u001b[0m\n\u001b[0;32m      3\u001b[0m \u001b[38;5;28;01mfor\u001b[39;00m x \u001b[38;5;129;01min\u001b[39;00m \u001b[38;5;28mrange\u001b[39m(\u001b[38;5;241m4\u001b[39m, \u001b[38;5;241m10\u001b[39m\u001b[38;5;241m*\u001b[39m\u001b[38;5;241m*\u001b[39m\u001b[38;5;241m8\u001b[39m):\n\u001b[0;32m      4\u001b[0m     \u001b[38;5;28;01mif\u001b[39;00m \u001b[38;5;129;01mnot\u001b[39;00m primefac\u001b[38;5;241m.\u001b[39misprime(x):\n\u001b[1;32m----> 5\u001b[0m         factors \u001b[38;5;241m=\u001b[39m \u001b[43m[\u001b[49m\u001b[43mp\u001b[49m\u001b[43m \u001b[49m\u001b[38;5;28;43;01mfor\u001b[39;49;00m\u001b[43m \u001b[49m\u001b[43mp\u001b[49m\u001b[43m \u001b[49m\u001b[38;5;129;43;01min\u001b[39;49;00m\u001b[43m \u001b[49m\u001b[43mprimefac\u001b[49m\u001b[38;5;241;43m.\u001b[39;49m\u001b[43mprimefac\u001b[49m\u001b[43m(\u001b[49m\u001b[43mx\u001b[49m\u001b[43m)\u001b[49m\u001b[43m]\u001b[49m\n\u001b[0;32m      6\u001b[0m         ratio \u001b[38;5;241m=\u001b[39m np\u001b[38;5;241m.\u001b[39mlog(x\u001b[38;5;241m/\u001b[39m\u001b[38;5;28mmax\u001b[39m(factors))\n\u001b[0;32m      7\u001b[0m         ratios\u001b[38;5;241m.\u001b[39mappend(ratio)\n",
      "Cell \u001b[1;32mIn[37], line 5\u001b[0m, in \u001b[0;36m<listcomp>\u001b[1;34m(.0)\u001b[0m\n\u001b[0;32m      3\u001b[0m \u001b[38;5;28;01mfor\u001b[39;00m x \u001b[38;5;129;01min\u001b[39;00m \u001b[38;5;28mrange\u001b[39m(\u001b[38;5;241m4\u001b[39m, \u001b[38;5;241m10\u001b[39m\u001b[38;5;241m*\u001b[39m\u001b[38;5;241m*\u001b[39m\u001b[38;5;241m8\u001b[39m):\n\u001b[0;32m      4\u001b[0m     \u001b[38;5;28;01mif\u001b[39;00m \u001b[38;5;129;01mnot\u001b[39;00m primefac\u001b[38;5;241m.\u001b[39misprime(x):\n\u001b[1;32m----> 5\u001b[0m         factors \u001b[38;5;241m=\u001b[39m \u001b[43m[\u001b[49m\u001b[43mp\u001b[49m\u001b[43m \u001b[49m\u001b[38;5;28;43;01mfor\u001b[39;49;00m\u001b[43m \u001b[49m\u001b[43mp\u001b[49m\u001b[43m \u001b[49m\u001b[38;5;129;43;01min\u001b[39;49;00m\u001b[43m \u001b[49m\u001b[43mprimefac\u001b[49m\u001b[38;5;241;43m.\u001b[39;49m\u001b[43mprimefac\u001b[49m\u001b[43m(\u001b[49m\u001b[43mx\u001b[49m\u001b[43m)\u001b[49m\u001b[43m]\u001b[49m\n\u001b[0;32m      6\u001b[0m         ratio \u001b[38;5;241m=\u001b[39m np\u001b[38;5;241m.\u001b[39mlog(x\u001b[38;5;241m/\u001b[39m\u001b[38;5;28mmax\u001b[39m(factors))\n\u001b[0;32m      7\u001b[0m         ratios\u001b[38;5;241m.\u001b[39mappend(ratio)\n",
      "File \u001b[1;32m~\\AppData\\Local\\Packages\\PythonSoftwareFoundation.Python.3.11_qbz5n2kfra8p0\\LocalCache\\local-packages\\Python311\\site-packages\\primefac\\__init__.py:912\u001b[0m, in \u001b[0;36mprimefac\u001b[1;34m(n, trial, rho, verbose, methods)\u001b[0m\n\u001b[0;32m    910\u001b[0m \u001b[38;5;66;03m# Trial division\u001b[39;00m\n\u001b[0;32m    911\u001b[0m factors, nroot \u001b[38;5;241m=\u001b[39m [], isqrt(n)\n\u001b[1;32m--> 912\u001b[0m \u001b[43m\u001b[49m\u001b[38;5;28;43;01mfor\u001b[39;49;00m\u001b[43m \u001b[49m\u001b[43mp\u001b[49m\u001b[43m \u001b[49m\u001b[38;5;129;43;01min\u001b[39;49;00m\u001b[43m \u001b[49m\u001b[43mprimegen\u001b[49m\u001b[43m(\u001b[49m\u001b[38;5;28;43mmax\u001b[39;49m\u001b[43m(\u001b[49m\u001b[38;5;241;43m4\u001b[39;49m\u001b[43m,\u001b[49m\u001b[43mtrial\u001b[49m\u001b[43m)\u001b[49m\u001b[38;5;241;43m+\u001b[39;49m\u001b[38;5;241;43m1\u001b[39;49m\u001b[43m)\u001b[49m\u001b[43m:\u001b[49m\u001b[43m \u001b[49m\u001b[38;5;66;43;03m# Note that we check for 2 and 3 whether the user wants to or not.\u001b[39;49;00m\n\u001b[0;32m    913\u001b[0m \u001b[43m    \u001b[49m\u001b[38;5;28;43;01mif\u001b[39;49;00m\u001b[43m \u001b[49m\u001b[43mverbose\u001b[49m\u001b[43m:\u001b[49m\u001b[43m \u001b[49m\u001b[38;5;28;43mprint\u001b[39;49m\u001b[43m(\u001b[49m\u001b[38;5;124;43m'\u001b[39;49m\u001b[38;5;130;43;01m\\b\u001b[39;49;00m\u001b[38;5;124;43m'\u001b[39;49m\u001b[38;5;241;43m*\u001b[39;49m\u001b[38;5;241;43m80\u001b[39;49m\u001b[43m \u001b[49m\u001b[38;5;241;43m+\u001b[39;49m\u001b[43m \u001b[49m\u001b[38;5;124;43m\"\u001b[39;49m\u001b[38;5;124;43mTrial division:\u001b[39;49m\u001b[38;5;124;43m\"\u001b[39;49m\u001b[43m,\u001b[49m\u001b[43m \u001b[49m\u001b[43mp\u001b[49m\u001b[43m,\u001b[49m\u001b[43m \u001b[49m\u001b[43mend\u001b[49m\u001b[38;5;241;43m=\u001b[39;49m\u001b[38;5;124;43m'\u001b[39;49m\u001b[38;5;124;43m'\u001b[39;49m\u001b[43m,\u001b[49m\u001b[43m \u001b[49m\u001b[43mflush\u001b[49m\u001b[38;5;241;43m=\u001b[39;49m\u001b[38;5;28;43;01mFalse\u001b[39;49;00m\u001b[43m)\u001b[49m\n\u001b[0;32m    914\u001b[0m \u001b[43m    \u001b[49m\u001b[38;5;28;43;01mif\u001b[39;49;00m\u001b[43m \u001b[49m\u001b[43mn\u001b[49m\u001b[38;5;241;43m%\u001b[39;49m\u001b[43mp\u001b[49m\u001b[43m \u001b[49m\u001b[38;5;241;43m==\u001b[39;49m\u001b[43m \u001b[49m\u001b[38;5;241;43m0\u001b[39;49m\u001b[43m:\u001b[49m\n",
      "File \u001b[1;32m~\\AppData\\Local\\Packages\\PythonSoftwareFoundation.Python.3.11_qbz5n2kfra8p0\\LocalCache\\local-packages\\Python311\\site-packages\\primefac\\__init__.py:40\u001b[0m, in \u001b[0;36mprimegen\u001b[1;34m(limit)\u001b[0m\n\u001b[0;32m     38\u001b[0m \u001b[38;5;28;01mfor\u001b[39;00m p \u001b[38;5;129;01min\u001b[39;00m pl:\n\u001b[0;32m     39\u001b[0m     k \u001b[38;5;241m=\u001b[39m (\u001b[38;5;241m-\u001b[39mll) \u001b[38;5;241m%\u001b[39m p\n\u001b[1;32m---> 40\u001b[0m     sieve[k::p] \u001b[38;5;241m=\u001b[39m \u001b[38;5;28;43mbytearray\u001b[39;49m\u001b[43m(\u001b[49m\u001b[43m[\u001b[49m\u001b[38;5;28;43;01mFalse\u001b[39;49;00m\u001b[43m]\u001b[49m\u001b[43m)\u001b[49m \u001b[38;5;241m*\u001b[39m ((sl\u001b[38;5;241m-\u001b[39mk)\u001b[38;5;241m/\u001b[39m\u001b[38;5;241m/\u001b[39mp \u001b[38;5;241m+\u001b[39m \u001b[38;5;241m1\u001b[39m)\n\u001b[0;32m     41\u001b[0m \u001b[38;5;28;01mif\u001b[39;00m nn \u001b[38;5;241m>\u001b[39m limit: \u001b[38;5;28;01mbreak\u001b[39;00m                                            \u001b[38;5;66;03m# TODO bring this condition up to the while statement\u001b[39;00m\n\u001b[0;32m     42\u001b[0m \u001b[38;5;28;01myield from\u001b[39;00m compress(\u001b[38;5;28mrange\u001b[39m(ll,ll\u001b[38;5;241m+\u001b[39msl,\u001b[38;5;241m2\u001b[39m), sieve[::\u001b[38;5;241m2\u001b[39m])\n",
      "\u001b[1;31mKeyboardInterrupt\u001b[0m: "
     ]
    }
   ],
   "source": [
    "ratios = []\n",
    "\n",
    "for x in range(4, 10**8):\n",
    "    if not primefac.isprime(x):\n",
    "        factors = [p for p in primefac.primefac(x)]\n",
    "        ratio = np.log(x/max(factors))\n",
    "        ratios.append(ratio)\n",
    "\n",
    "\n",
    "foo = pd.Series(ratios)\n",
    "foo.to_json(\"prime_ratios.json\")\n"
   ]
  },
  {
   "cell_type": "code",
   "execution_count": 28,
   "id": "46e2dd5f",
   "metadata": {},
   "outputs": [],
   "source": [
    "foo = pd.Series(ratios)"
   ]
  },
  {
   "cell_type": "code",
   "execution_count": 29,
   "id": "178e0bd4",
   "metadata": {},
   "outputs": [
    {
     "data": {
      "text/plain": [
       "count    9.335419e+06\n",
       "mean     5.724594e+00\n",
       "std      2.803274e+00\n",
       "min      6.931472e-01\n",
       "25%      3.465736e+00\n",
       "50%      5.877736e+00\n",
       "75%      7.895436e+00\n",
       "max      1.524924e+01\n",
       "dtype: float64"
      ]
     },
     "execution_count": 29,
     "metadata": {},
     "output_type": "execute_result"
    }
   ],
   "source": [
    "foo.describe()"
   ]
  },
  {
   "cell_type": "code",
   "execution_count": 30,
   "id": "c4bdf60a",
   "metadata": {},
   "outputs": [
    {
     "data": {
      "text/plain": [
       "<Axes: >"
      ]
     },
     "execution_count": 30,
     "metadata": {},
     "output_type": "execute_result"
    },
    {
     "data": {
      "image/png": "[encoded data removed]",
      "text/plain": [
       "<Figure size 640x480 with 1 Axes>"
      ]
     },
     "metadata": {},
     "output_type": "display_data"
    }
   ],
   "source": [
    "foo.hist()"
   ]
  },
  {
   "cell_type": "code",
   "execution_count": 34,
   "id": "bb2032b0",
   "metadata": {},
   "outputs": [
    {
     "data": {
      "text/plain": [
       "<Axes: >"
      ]
     },
     "execution_count": 34,
     "metadata": {},
     "output_type": "execute_result"
    },
    {
     "data": {
      "image/png": "[encoded data removed]",
      "text/plain": [
       "<Figure size 640x480 with 1 Axes>"
      ]
     },
     "metadata": {},
     "output_type": "display_data"
    }
   ],
   "source": [
    "foo[:400000].hist()"
   ]
  },
  {
   "cell_type": "code",
   "execution_count": 35,
   "id": "ffdc59ae",
   "metadata": {},
   "outputs": [
    {
     "data": {
      "text/plain": [
       "<Axes: >"
      ]
     },
     "execution_count": 35,
     "metadata": {},
     "output_type": "execute_result"
    },
    {
     "data": {
      "image/png": "[encoded data removed]",
      "text/plain": [
       "<Figure size 640x480 with 1 Axes>"
      ]
     },
     "metadata": {},
     "output_type": "display_data"
    }
   ],
   "source": [
    "foo.sample(100000).hist()\n"
   ]
  },
  {
   "cell_type": "code",
   "execution_count": null,
   "id": "36f712cc",
   "metadata": {},
   "outputs": [],
   "source": []
  }
 ],
 "metadata": {
  "kernelspec": {
   "display_name": "Python 3",
   "language": "python",
   "name": "python3"
  },
  "language_info": {
   "codemirror_mode": {
    "name": "ipython",
    "version": 3
   },
   "file_extension": ".py",
   "mimetype": "text/x-python",
   "name": "python",
   "nbconvert_exporter": "python",
   "pygments_lexer": "ipython3",
   "version": "3.11.9"
  }
 },
 "nbformat": 4,
 "nbformat_minor": 5
}
