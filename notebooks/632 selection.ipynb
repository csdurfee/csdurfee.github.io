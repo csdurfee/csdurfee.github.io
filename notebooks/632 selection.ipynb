{
 "cells": [
  {
   "cell_type": "markdown",
   "id": "b5a4e3a3",
   "metadata": {},
   "source": [
    "bootstrapping & .632 selection, part 1"
   ]
  },
  {
   "cell_type": "code",
   "execution_count": 2,
   "id": "ddb1c8d9",
   "metadata": {},
   "outputs": [],
   "source": [
    "import numpy as np\n",
    "import pandas as pd\n",
    "import matplotlib.pyplot as plt"
   ]
  },
  {
   "cell_type": "code",
   "execution_count": 3,
   "id": "7631b3d0",
   "metadata": {},
   "outputs": [],
   "source": [
    "import scipy.stats"
   ]
  },
  {
   "cell_type": "code",
   "execution_count": 4,
   "id": "75e8e5f0",
   "metadata": {},
   "outputs": [],
   "source": [
    "plt.style.use('dark_background')"
   ]
  },
  {
   "cell_type": "code",
   "execution_count": 5,
   "id": "4ae1dbc2",
   "metadata": {},
   "outputs": [
    {
     "data": {
      "text/plain": [
       "np.float64(0.6321205588285577)"
      ]
     },
     "execution_count": 5,
     "metadata": {},
     "output_type": "execute_result"
    }
   ],
   "source": [
    "1 - (1/np.exp(1))"
   ]
  },
  {
   "cell_type": "code",
   "execution_count": 6,
   "id": "f6f2f49e",
   "metadata": {},
   "outputs": [
    {
     "data": {
      "text/plain": [
       "0.3660323412732292"
      ]
     },
     "execution_count": 6,
     "metadata": {},
     "output_type": "execute_result"
    }
   ],
   "source": [
    "(99/100)**100"
   ]
  },
  {
   "cell_type": "code",
   "execution_count": 7,
   "id": "914acc3c",
   "metadata": {},
   "outputs": [],
   "source": [
    "rng = np.random.default_rng(2720)"
   ]
  },
  {
   "cell_type": "code",
   "execution_count": 8,
   "id": "6306b820",
   "metadata": {},
   "outputs": [
    {
     "data": {
      "text/plain": [
       "10"
      ]
     },
     "execution_count": 8,
     "metadata": {},
     "output_type": "execute_result"
    }
   ],
   "source": [
    "len(rng.choice(10,10))"
   ]
  },
  {
   "cell_type": "markdown",
   "id": "60ed1151",
   "metadata": {},
   "source": []
  },
  {
   "cell_type": "code",
   "execution_count": 9,
   "id": "a92408c0",
   "metadata": {},
   "outputs": [
    {
     "data": {
      "text/plain": [
       "61"
      ]
     },
     "execution_count": 9,
     "metadata": {},
     "output_type": "execute_result"
    }
   ],
   "source": [
    "len(set(rng.choice(100,100)))"
   ]
  },
  {
   "cell_type": "markdown",
   "id": "d6e12f96",
   "metadata": {},
   "source": [
    "more fun with the differences between approximation and reality...\n",
    "\n",
    "say you have a set of values {1...n} and you sample from it with replacement `n` times. how many distinct values will you get, on average? It's very likely to select one that has already been selected before, so it won't be 100%. \n",
    "\n",
    "Say it's 100 pieces of paper in a bag. The first 10 draws, it's unlikely to re-draw one we've seen before. At the end of the process, it's much more likely. Let's say we've made 90 draws and so far have gotten 60 unique values from the bag. For draw #91, there are 60 items we've already drawn, and 40 that we haven't. So there's a 60% chance of getting a repeat. If we've gotten 70 unique items out of 90, there's an even bigger chance of getting a repeat. It's kind of self correcting in a way that's worth thinking about for a second. The more unique items so far, the more likely the next item selected will be one we've seen before."
   ]
  },
  {
   "cell_type": "markdown",
   "id": "1b762c49",
   "metadata": {},
   "source": [
    "The math here is not too bad. Pick your favorite number between 1 and 100. The chance it is drawn is 1/100. So the chance it isn't drawn is 99/100.\n",
    "\n",
    "Each draw is independent, so we can multiply probabilities together.  For 100 draws, that's equal to:"
   ]
  },
  {
   "cell_type": "code",
   "execution_count": 10,
   "id": "a1400fb2",
   "metadata": {},
   "outputs": [
    {
     "data": {
      "text/plain": [
       "0.3660323412732292"
      ]
     },
     "execution_count": 10,
     "metadata": {},
     "output_type": "execute_result"
    }
   ],
   "source": [
    "p_not_chosen = (99/100) ** 100\n",
    "\n",
    "p_not_chosen"
   ]
  },
  {
   "cell_type": "markdown",
   "id": "05d1180c",
   "metadata": {},
   "source": [
    "Every number is either chosen, or not chosen. So the probability our number was chosen is:"
   ]
  },
  {
   "cell_type": "code",
   "execution_count": 11,
   "id": "c594eacf",
   "metadata": {},
   "outputs": [
    {
     "data": {
      "text/plain": [
       "0.6339676587267709"
      ]
     },
     "execution_count": 11,
     "metadata": {},
     "output_type": "execute_result"
    }
   ],
   "source": [
    "1 - p_not_chosen"
   ]
  },
  {
   "cell_type": "code",
   "execution_count": 12,
   "id": "264ee0b8",
   "metadata": {},
   "outputs": [
    {
     "data": {
      "text/plain": [
       "0.010000000000000009"
      ]
     },
     "execution_count": 12,
     "metadata": {},
     "output_type": "execute_result"
    }
   ],
   "source": [
    "1 - (99/100) ** 1"
   ]
  },
  {
   "cell_type": "code",
   "execution_count": 13,
   "id": "a208817a",
   "metadata": {},
   "outputs": [],
   "source": [
    "x = np.arange(0,100)\n",
    "y = 1-  ((99/100) ** x)"
   ]
  },
  {
   "cell_type": "code",
   "execution_count": 14,
   "id": "dac283f4",
   "metadata": {},
   "outputs": [
    {
     "data": {
      "image/png": "[encoded data removed]",
      "text/plain": [
       "<Figure size 640x480 with 1 Axes>"
      ]
     },
     "metadata": {},
     "output_type": "display_data"
    }
   ],
   "source": [
    "plt.plot(x,y, color='dodgerblue')\n",
    "_ = plt.title(\"probability of a number being selected\")\n",
    "_ = plt.xlabel(\"number of selections\")"
   ]
  },
  {
   "cell_type": "markdown",
   "id": "ac31ba63",
   "metadata": {},
   "source": [
    "If we generalize the process above, something cool happens. `n` is the number of elements we're choosing from. As n gets big, the probability of a number not being chosen is:\n",
    "\n",
    "$\\lim\\limits_{n\\to\\infty}(\\frac{n-1}{n})^{n}$\n",
    "\n",
    "It turns out this is equal to $\\frac{1}{e}$ ! Yeah, e! Your old buddy from calculus class. You know, the $e^{i\\pi}$ guy?\n",
    "\n",
    "See the proof at the end, included mainly as LaTex practice for me.\n",
    "\n",
    "$\\frac{1}{e}$ pops up in a bunch of places\n"
   ]
  },
  {
   "cell_type": "code",
   "execution_count": 15,
   "id": "777a749a",
   "metadata": {},
   "outputs": [
    {
     "data": {
      "text/plain": [
       "0.36787944117144233"
      ]
     },
     "execution_count": 15,
     "metadata": {},
     "output_type": "execute_result"
    }
   ],
   "source": [
    "1/np.e"
   ]
  },
  {
   "cell_type": "markdown",
   "id": "d2396f81",
   "metadata": {},
   "source": [
    "\n"
   ]
  },
  {
   "cell_type": "markdown",
   "id": "c59ccc5d",
   "metadata": {},
   "source": [
    "The probability of a number not being chosen is the same as the probability of it being chosen exactly once, which might be a little surprising.  "
   ]
  },
  {
   "cell_type": "markdown",
   "id": "3f41f355",
   "metadata": {},
   "source": [
    "\n",
    "     \n",
    "That means the probability of an item being chosen more than once is $1 - \\frac{2}{e}$ -- that's over 26%. Doesn't that seem kind of high?"
   ]
  },
  {
   "cell_type": "code",
   "execution_count": 16,
   "id": "c42c38ff",
   "metadata": {},
   "outputs": [
    {
     "data": {
      "text/plain": [
       "np.float64(0.26424111765711533)"
      ]
     },
     "execution_count": 16,
     "metadata": {},
     "output_type": "execute_result"
    }
   ],
   "source": [
    "1 - (2/np.exp(1))"
   ]
  },
  {
   "cell_type": "markdown",
   "id": "a321f8d2",
   "metadata": {},
   "source": [
    "as always, I like to simulate stuff "
   ]
  },
  {
   "cell_type": "code",
   "execution_count": 17,
   "id": "0101f292",
   "metadata": {},
   "outputs": [],
   "source": [
    "multi_counts = []\n",
    "\n",
    "length_counts = []\n",
    "\n",
    "worst_case = 0\n",
    "worst_data = None\n",
    "\n",
    "for x in range(100000):\n",
    "    sample = pd.Series(rng.choice(100,100))\n",
    "    ### find total number selected\n",
    "    length_counts.append(len(set(sample)))\n",
    "\n",
    "    ### find ones selected >1 time\n",
    "    vc = sample.value_counts()\n",
    "    multi_selections = len(vc[vc.values>1])\n",
    "    multi_counts.append(multi_selections)\n",
    "\n",
    "    if multi_selections > worst_case:\n",
    "        worst_case = multi_selections\n",
    "        worst_data = sample\n",
    "\n",
    "multi_counts = pd.Series(multi_counts)"
   ]
  },
  {
   "cell_type": "code",
   "execution_count": 18,
   "id": "f9e2183a",
   "metadata": {},
   "outputs": [
    {
     "data": {
      "text/plain": [
       "49"
      ]
     },
     "execution_count": 18,
     "metadata": {},
     "output_type": "execute_result"
    }
   ],
   "source": [
    "min(length_counts)"
   ]
  },
  {
   "cell_type": "code",
   "execution_count": 19,
   "id": "800ab457",
   "metadata": {},
   "outputs": [
    {
     "data": {
      "text/plain": [
       "76"
      ]
     },
     "execution_count": 19,
     "metadata": {},
     "output_type": "execute_result"
    }
   ],
   "source": [
    "max(length_counts)"
   ]
  },
  {
   "cell_type": "markdown",
   "id": "be9e6f59",
   "metadata": {},
   "source": [
    "considering I did 100,000 simulations, a range of 50-75 values is a pretty tight spread."
   ]
  },
  {
   "cell_type": "code",
   "execution_count": 20,
   "id": "1a35de5c",
   "metadata": {},
   "outputs": [
    {
     "data": {
      "image/png": "[encoded data removed]",
      "text/plain": [
       "<Figure size 640x480 with 1 Axes>"
      ]
     },
     "metadata": {},
     "output_type": "display_data"
    }
   ],
   "source": [
    "\n",
    "_hists = plt.hist(length_counts, bins=range(min(length_counts), max(length_counts)), \n",
    "                  density=True, color='dodgerblue')"
   ]
  },
  {
   "cell_type": "markdown",
   "id": "690934cf",
   "metadata": {},
   "source": [
    "comparing this to 100 trials of a binomial distribution w/ a 63.4% success rate"
   ]
  },
  {
   "cell_type": "code",
   "execution_count": 21,
   "id": "83385466",
   "metadata": {},
   "outputs": [
    {
     "data": {
      "image/png": "[encoded data removed]",
      "text/plain": [
       "<Figure size 640x480 with 1 Axes>"
      ]
     },
     "metadata": {},
     "output_type": "display_data"
    }
   ],
   "source": [
    "bino = scipy.stats.binom(100, .634)\n",
    "\n",
    "bino_df = pd.DataFrame({\n",
    "    'x': [x for x in range(50,78)],\n",
    "    'y': [bino.pmf(x) for x in range(50,78)]\n",
    "\n",
    "})\n",
    "\n",
    "plt.bar(bino_df.x, bino_df.y, label=\"coin flip\", color=\"dodgerblue\")\n",
    "\n",
    "plt.bar(_hists[1][:-1], _hists[0], color=\"red\", label=\"with replacement\")\n",
    "\n",
    "plt.title(\"number of unique values, choosing 100\")\n",
    "\n",
    "plt.axvline(63.5, color=\"white\")\n",
    "\n",
    "_ = plt.legend()"
   ]
  },
  {
   "cell_type": "code",
   "execution_count": 22,
   "id": "8406a860",
   "metadata": {},
   "outputs": [],
   "source": [
    "series_lc = pd.Series(length_counts)"
   ]
  },
  {
   "cell_type": "code",
   "execution_count": 23,
   "id": "9e826397",
   "metadata": {},
   "outputs": [
    {
     "data": {
      "text/plain": [
       "count    100000.000000\n",
       "mean         63.396840\n",
       "std           3.102321\n",
       "min          49.000000\n",
       "25%          61.000000\n",
       "50%          63.000000\n",
       "75%          65.000000\n",
       "max          76.000000\n",
       "dtype: float64"
      ]
     },
     "execution_count": 23,
     "metadata": {},
     "output_type": "execute_result"
    }
   ],
   "source": [
    "series_lc.describe()"
   ]
  },
  {
   "cell_type": "code",
   "execution_count": 24,
   "id": "f6ae44a4",
   "metadata": {},
   "outputs": [
    {
     "data": {
      "text/plain": [
       "np.float64(58.0)"
      ]
     },
     "execution_count": 24,
     "metadata": {},
     "output_type": "execute_result"
    }
   ],
   "source": [
    "np.percentile(series_lc, 5)"
   ]
  },
  {
   "cell_type": "code",
   "execution_count": 25,
   "id": "62e4abe3",
   "metadata": {},
   "outputs": [
    {
     "data": {
      "text/plain": [
       "np.float64(68.0)"
      ]
     },
     "execution_count": 25,
     "metadata": {},
     "output_type": "execute_result"
    }
   ],
   "source": [
    "np.percentile(series_lc, 95)"
   ]
  },
  {
   "cell_type": "markdown",
   "id": "14a9c270",
   "metadata": {},
   "source": [
    "equivalent binomial:\n"
   ]
  },
  {
   "cell_type": "code",
   "execution_count": 26,
   "id": "d64d0bb2",
   "metadata": {},
   "outputs": [
    {
     "data": {
      "text/plain": [
       "np.float64(4.817650464697496)"
      ]
     },
     "execution_count": 26,
     "metadata": {},
     "output_type": "execute_result"
    }
   ],
   "source": [
    "np.sqrt(100 * .6338 * (1-.6338))"
   ]
  },
  {
   "cell_type": "code",
   "execution_count": 27,
   "id": "487ef4d7",
   "metadata": {},
   "outputs": [
    {
     "data": {
      "text/plain": [
       "1.5447258736774605"
      ]
     },
     "execution_count": 27,
     "metadata": {},
     "output_type": "execute_result"
    }
   ],
   "source": [
    "4.818/3.119"
   ]
  },
  {
   "cell_type": "markdown",
   "id": "dc853d23",
   "metadata": {},
   "source": [
    "equivalent poisson (doesn't really make sense)\n"
   ]
  },
  {
   "cell_type": "code",
   "execution_count": 28,
   "id": "647c0518",
   "metadata": {},
   "outputs": [
    {
     "data": {
      "text/plain": [
       "np.float64(2.5520678091865854)"
      ]
     },
     "execution_count": 28,
     "metadata": {},
     "output_type": "execute_result"
    }
   ],
   "source": [
    "np.sqrt(63.36) / 3.119"
   ]
  },
  {
   "cell_type": "markdown",
   "id": "7df715e4",
   "metadata": {},
   "source": [
    "### distribution of multiple counts\n",
    "\n",
    "the number of items that was selected 2+ times has an even tighter distribution"
   ]
  },
  {
   "cell_type": "code",
   "execution_count": 29,
   "id": "409531b1",
   "metadata": {},
   "outputs": [
    {
     "data": {
      "text/plain": [
       "count    100000.000000\n",
       "mean         26.417290\n",
       "std           2.428312\n",
       "min          17.000000\n",
       "25%          25.000000\n",
       "50%          26.000000\n",
       "75%          28.000000\n",
       "max          36.000000\n",
       "dtype: float64"
      ]
     },
     "execution_count": 29,
     "metadata": {},
     "output_type": "execute_result"
    }
   ],
   "source": [
    "multi_counts.describe()"
   ]
  },
  {
   "cell_type": "code",
   "execution_count": 30,
   "id": "07298d36",
   "metadata": {},
   "outputs": [
    {
     "data": {
      "text/plain": [
       "36"
      ]
     },
     "execution_count": 30,
     "metadata": {},
     "output_type": "execute_result"
    }
   ],
   "source": [
    "max(multi_counts)"
   ]
  },
  {
   "cell_type": "code",
   "execution_count": 31,
   "id": "efe38961",
   "metadata": {},
   "outputs": [
    {
     "data": {
      "image/png": "[encoded data removed]",
      "text/plain": [
       "<Figure size 640x480 with 1 Axes>"
      ]
     },
     "metadata": {},
     "output_type": "display_data"
    }
   ],
   "source": [
    "\n",
    "_hists = plt.hist(multi_counts, bins=range(min(multi_counts), max(multi_counts)), \n",
    "                  density=True, color='dodgerblue')"
   ]
  },
  {
   "cell_type": "code",
   "execution_count": 32,
   "id": "d1177b06",
   "metadata": {},
   "outputs": [
    {
     "data": {
      "image/png": "[encoded data removed]",
      "text/plain": [
       "<Figure size 640x480 with 1 Axes>"
      ]
     },
     "metadata": {},
     "output_type": "display_data"
    }
   ],
   "source": [
    "\n",
    "bino = scipy.stats.binom(100, (1-2/np.e))\n",
    "\n",
    "bino_df = pd.DataFrame({\n",
    "    'x': [x for x in range(12,42)],\n",
    "    'y': [bino.pmf(x) for x in range(12,42)]\n",
    "\n",
    "})\n",
    "\n",
    "\n",
    "plt.bar(bino_df.x, bino_df.y, label=\"coin flip\", color=\"dodgerblue\")\n",
    "plt.bar(_hists[1][:-1], _hists[0], color=\"red\", label=\"with replacement\")\n",
    "\n",
    "\n",
    "plt.title(\"number of items selected 2+ times\")\n",
    "\n",
    "plt.axvline(26.4, color=\"white\")\n",
    "\n",
    "_ = plt.legend()"
   ]
  },
  {
   "cell_type": "code",
   "execution_count": 33,
   "id": "01b01229",
   "metadata": {},
   "outputs": [
    {
     "data": {
      "text/plain": [
       "0.7357588823428847"
      ]
     },
     "execution_count": 33,
     "metadata": {},
     "output_type": "execute_result"
    }
   ],
   "source": [
    "2/np.e"
   ]
  },
  {
   "cell_type": "code",
   "execution_count": 34,
   "id": "95843aeb",
   "metadata": {},
   "outputs": [
    {
     "data": {
      "text/plain": [
       "0.999347551045417"
      ]
     },
     "execution_count": 34,
     "metadata": {},
     "output_type": "execute_result"
    }
   ],
   "source": [
    "sum(bino_df.y)"
   ]
  },
  {
   "cell_type": "code",
   "execution_count": 35,
   "id": "93c4e954",
   "metadata": {},
   "outputs": [
    {
     "data": {
      "text/plain": [
       "np.float64(4.407992740465891)"
      ]
     },
     "execution_count": 35,
     "metadata": {},
     "output_type": "execute_result"
    }
   ],
   "source": [
    "np.sqrt(100 * .264 * (1-.264))"
   ]
  },
  {
   "cell_type": "markdown",
   "id": "a5680319",
   "metadata": {},
   "source": [
    "the equivalent binomal is almost 2x the standard deviation"
   ]
  },
  {
   "cell_type": "code",
   "execution_count": 36,
   "id": "eb13d910",
   "metadata": {},
   "outputs": [
    {
     "data": {
      "text/plain": [
       "1.8106995884773662"
      ]
     },
     "execution_count": 36,
     "metadata": {},
     "output_type": "execute_result"
    }
   ],
   "source": [
    "4.4/2.43"
   ]
  },
  {
   "cell_type": "code",
   "execution_count": 37,
   "id": "2e5a2b7f",
   "metadata": {},
   "outputs": [
    {
     "data": {
      "text/plain": [
       "0        27\n",
       "1        26\n",
       "2        25\n",
       "3        26\n",
       "4        28\n",
       "         ..\n",
       "99995    24\n",
       "99996    28\n",
       "99997    25\n",
       "99998    29\n",
       "99999    28\n",
       "Length: 100000, dtype: int64"
      ]
     },
     "execution_count": 37,
     "metadata": {},
     "output_type": "execute_result"
    }
   ],
   "source": [
    "multi_counts"
   ]
  },
  {
   "cell_type": "markdown",
   "id": "d688feab",
   "metadata": {},
   "source": [
    "### DERANGEMENTS\n",
    "\n",
    "this will have to wait till next time."
   ]
  },
  {
   "cell_type": "code",
   "execution_count": 38,
   "id": "fb8688cd",
   "metadata": {},
   "outputs": [
    {
     "data": {
      "text/plain": [
       "array([7, 2, 8, 0, 4, 5, 3, 6, 9, 1])"
      ]
     },
     "execution_count": 38,
     "metadata": {},
     "output_type": "execute_result"
    }
   ],
   "source": [
    "rng.permutation(10)"
   ]
  },
  {
   "cell_type": "code",
   "execution_count": 39,
   "id": "9f9f90ad",
   "metadata": {},
   "outputs": [],
   "source": [
    "def num_fixed_points(num):\n",
    "    perm = rng.permutation(num)\n",
    "    base = np.arange(num)\n",
    "    return sum(perm == base)"
   ]
  },
  {
   "cell_type": "code",
   "execution_count": 40,
   "id": "3b20d04b",
   "metadata": {},
   "outputs": [],
   "source": [
    "fixed_point_counts = []\n",
    "\n",
    "NUM_ITERS = 1000000\n",
    "\n",
    "for x in range(NUM_ITERS):\n",
    "    fixed_point_counts.append(num_fixed_points(10))\n",
    "\n"
   ]
  },
  {
   "cell_type": "code",
   "execution_count": 41,
   "id": "e49a40e1",
   "metadata": {},
   "outputs": [
    {
     "data": {
      "text/plain": [
       "1    368315\n",
       "0    367716\n",
       "2    183908\n",
       "3     61025\n",
       "4     15338\n",
       "5      3078\n",
       "6       535\n",
       "7        72\n",
       "8        13\n",
       "Name: count, dtype: int64"
      ]
     },
     "execution_count": 41,
     "metadata": {},
     "output_type": "execute_result"
    }
   ],
   "source": [
    "fpc = pd.Series(fixed_point_counts)\n",
    "fpc.value_counts()"
   ]
  },
  {
   "cell_type": "code",
   "execution_count": 42,
   "id": "16a76f51",
   "metadata": {},
   "outputs": [
    {
     "data": {
      "text/plain": [
       "count    1000000.000000\n",
       "mean           0.999766\n",
       "std            0.999809\n",
       "min            0.000000\n",
       "25%            0.000000\n",
       "50%            1.000000\n",
       "75%            2.000000\n",
       "max            8.000000\n",
       "dtype: float64"
      ]
     },
     "execution_count": 42,
     "metadata": {},
     "output_type": "execute_result"
    }
   ],
   "source": [
    "fpc.describe()"
   ]
  },
  {
   "cell_type": "code",
   "execution_count": 43,
   "id": "3af3801d",
   "metadata": {},
   "outputs": [],
   "source": [
    "gvc = fpc.value_counts()"
   ]
  },
  {
   "cell_type": "code",
   "execution_count": 44,
   "id": "0aebb299",
   "metadata": {},
   "outputs": [
    {
     "data": {
      "text/plain": [
       "Index([368315, 0, 367816, 183075, 61352, 15390, 3210, 504, 104], dtype='int64')"
      ]
     },
     "execution_count": 44,
     "metadata": {},
     "output_type": "execute_result"
    }
   ],
   "source": [
    "gvc.index * gvc.values"
   ]
  },
  {
   "cell_type": "markdown",
   "id": "3c19b496",
   "metadata": {},
   "source": [
    "expected value should be 1. distribution should be a poisson with mean = 1 (and thus variance = 1)\n"
   ]
  },
  {
   "cell_type": "code",
   "execution_count": 45,
   "id": "dd35a75e",
   "metadata": {},
   "outputs": [
    {
     "data": {
      "text/plain": [
       "count    1000000.000000\n",
       "mean           0.999766\n",
       "std            0.999809\n",
       "min            0.000000\n",
       "25%            0.000000\n",
       "50%            1.000000\n",
       "75%            2.000000\n",
       "max            8.000000\n",
       "dtype: float64"
      ]
     },
     "execution_count": 45,
     "metadata": {},
     "output_type": "execute_result"
    }
   ],
   "source": [
    "fpc.describe()"
   ]
  },
  {
   "cell_type": "code",
   "execution_count": 46,
   "id": "11c30d8e",
   "metadata": {},
   "outputs": [
    {
     "data": {
      "text/plain": [
       "<BarContainer object of 9 artists>"
      ]
     },
     "execution_count": 46,
     "metadata": {},
     "output_type": "execute_result"
    },
    {
     "data": {
      "image/png": "[encoded data removed]",
      "text/plain": [
       "<Figure size 640x480 with 1 Axes>"
      ]
     },
     "metadata": {},
     "output_type": "display_data"
    }
   ],
   "source": [
    "plt.bar(range(0,9),fpc.value_counts().values)"
   ]
  },
  {
   "cell_type": "markdown",
   "id": "2b818756",
   "metadata": {},
   "source": [
    "## HERE BE DRAGONS\n",
    "\n",
    "stuff after this point is junky/leftover stuff\n"
   ]
  },
  {
   "cell_type": "markdown",
   "id": "342b289e",
   "metadata": {},
   "source": [
    "what about small sample size?"
   ]
  },
  {
   "cell_type": "code",
   "execution_count": 47,
   "id": "d4a282b7",
   "metadata": {},
   "outputs": [],
   "source": [
    "## this will simulate .632 selection\n",
    "\n",
    "distinct_counts = []\n",
    "\n",
    "for x in range(1000000):\n",
    "    indices = rng.choice(10,10)\n",
    "    distinct = len(set(indices)) # this eliminates duplicates\n",
    "    distinct_counts.append(distinct)\n",
    "\n",
    "boo =pd.Series(distinct_counts)\n",
    "\n"
   ]
  },
  {
   "cell_type": "code",
   "execution_count": 48,
   "id": "da96bf48",
   "metadata": {},
   "outputs": [
    {
     "data": {
      "text/plain": [
       "0.6513215599"
      ]
     },
     "execution_count": 48,
     "metadata": {},
     "output_type": "execute_result"
    }
   ],
   "source": [
    "1 - (1-1/10)**10"
   ]
  },
  {
   "cell_type": "code",
   "execution_count": 49,
   "id": "b2b09ee3",
   "metadata": {},
   "outputs": [
    {
     "data": {
      "text/plain": [
       "<Axes: >"
      ]
     },
     "execution_count": 49,
     "metadata": {},
     "output_type": "execute_result"
    },
    {
     "data": {
      "image/png": "[encoded data removed]",
      "text/plain": [
       "<Figure size 640x480 with 1 Axes>"
      ]
     },
     "metadata": {},
     "output_type": "display_data"
    }
   ],
   "source": [
    "boo.hist(bins=range(3,11), color='dodgerblue', density=True)"
   ]
  },
  {
   "cell_type": "code",
   "execution_count": 50,
   "id": "e15e4334",
   "metadata": {},
   "outputs": [
    {
     "data": {
      "text/plain": [
       "0.3660323412732292"
      ]
     },
     "execution_count": 50,
     "metadata": {},
     "output_type": "execute_result"
    }
   ],
   "source": [
    "(99/100)**100"
   ]
  },
  {
   "cell_type": "code",
   "execution_count": 51,
   "id": "065bc7ab",
   "metadata": {},
   "outputs": [
    {
     "data": {
      "text/plain": [
       "count    1000000.000000\n",
       "mean           6.513265\n",
       "std            0.995393\n",
       "min            2.000000\n",
       "25%            6.000000\n",
       "50%            7.000000\n",
       "75%            7.000000\n",
       "max           10.000000\n",
       "dtype: float64"
      ]
     },
     "execution_count": 51,
     "metadata": {},
     "output_type": "execute_result"
    }
   ],
   "source": [
    "boo.describe()"
   ]
  },
  {
   "cell_type": "markdown",
   "id": "37c4a4a0",
   "metadata": {},
   "source": [
    "### is there a performance difference between replacement and non-replacement?\n",
    "\n"
   ]
  },
  {
   "cell_type": "code",
   "execution_count": 64,
   "id": "9df0be9e",
   "metadata": {},
   "outputs": [],
   "source": [
    "\n",
    "def bootstrap_performance(n_items):\n",
    "    \"\"\"\n",
    "    do a classic bootstrap to select ~ 63.2% of items\n",
    "    \"\"\"\n",
    "    choices = set(rng.choice(n_items, n_items, replace=True))\n",
    "    return choices\n",
    "\n",
    "\n",
    "def without_replacement_performance(n_items):\n",
    "    choices = set(rng.choice(n_items, round(.632 * n_items), replace=False))\n",
    "    return choices\n"
   ]
  },
  {
   "cell_type": "code",
   "execution_count": 61,
   "id": "621de8a4",
   "metadata": {},
   "outputs": [
    {
     "data": {
      "text/plain": [
       "63"
      ]
     },
     "execution_count": 61,
     "metadata": {},
     "output_type": "execute_result"
    }
   ],
   "source": [
    "len(without_replacement_performance(100))"
   ]
  },
  {
   "cell_type": "code",
   "execution_count": 62,
   "id": "489862bb",
   "metadata": {},
   "outputs": [],
   "source": [
    "import timeit"
   ]
  },
  {
   "cell_type": "code",
   "execution_count": 73,
   "id": "1dc06ca4",
   "metadata": {},
   "outputs": [
    {
     "name": "stdout",
     "output_type": "stream",
     "text": [
      "0.1555434000911191\n",
      "0.1139050000347197\n",
      "1.3655537513165137\n"
     ]
    }
   ],
   "source": [
    "t1 = timeit.timeit(\"bootstrap_performance(100)\", number=10000, setup=\"from __main__ import bootstrap_performance\")\n",
    "t2 = timeit.timeit(\"without_replacement_performance(100)\", number=10000, setup=\"from __main__ import without_replacement_performance\")\n",
    "\n",
    "print(t1)\n",
    "print(t2)\n",
    "print(t1/t2)"
   ]
  },
  {
   "cell_type": "code",
   "execution_count": null,
   "id": "bb4dda38",
   "metadata": {},
   "outputs": [
    {
     "data": {
      "text/plain": [
       "0.013663099962286651"
      ]
     },
     "execution_count": 69,
     "metadata": {},
     "output_type": "execute_result"
    }
   ],
   "source": []
  },
  {
   "cell_type": "markdown",
   "id": "1ca7a159",
   "metadata": {},
   "source": [
    "## references/etc\n",
    "\n",
    "https://oeis.org/A068985"
   ]
  },
  {
   "cell_type": "markdown",
   "id": "7c2fbe2e",
   "metadata": {},
   "source": []
  }
 ],
 "metadata": {
  "kernelspec": {
   "display_name": "Python 3",
   "language": "python",
   "name": "python3"
  },
  "language_info": {
   "codemirror_mode": {
    "name": "ipython",
    "version": 3
   },
   "file_extension": ".py",
   "mimetype": "text/x-python",
   "name": "python",
   "nbconvert_exporter": "python",
   "pygments_lexer": "ipython3",
   "version": "3.11.9"
  }
 },
 "nbformat": 4,
 "nbformat_minor": 5
}
